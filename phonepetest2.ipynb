{
 "cells": [
  {
   "cell_type": "code",
   "execution_count": 1,
   "metadata": {},
   "outputs": [],
   "source": [
    "import pandas as pd\n",
    "import psycopg2\n",
    "import plotly.express as px\n",
    "import nbformat\n",
    "import requests\n",
    "import json\n",
    "import ssl\n",
    "import urllib3\n"
   ]
  },
  {
   "cell_type": "code",
   "execution_count": 12,
   "metadata": {},
   "outputs": [],
   "source": [
    "# Data frame creation\n",
    "\n",
    "# sql connection\n",
    "\n",
    "mydb=psycopg2.connect(host=\"localhost\",\n",
    "                        user=\"postgres\",\n",
    "                        password=\"8997\",\n",
    "                        database=\"phonepe_data\",\n",
    "                        port=\"5432\")\n",
    "cursor=mydb.cursor()\n",
    "\n",
    "#aggregated_insurance_df\n",
    "\n",
    "cursor.execute(\"SELECT * FROM aggregated_insurance\")\n",
    "mydb.commit()\n",
    "table1 = cursor.fetchall()\n",
    "\n",
    "Aggre_insurance = pd.DataFrame(table1,columns=(\"States\",\"Years\",\"Quarter\",\n",
    "                                               \"Transaction_type\",\"Transaction_count\",\"Transaction_amount\"))\n",
    "\n",
    "\n",
    "#aggregated_transaction_df\n",
    "\n",
    "cursor.execute(\"SELECT * FROM aggregated_transaction\")\n",
    "mydb.commit()\n",
    "table2 = cursor.fetchall()\n",
    "\n",
    "Aggre_transaction = pd.DataFrame(table2,columns=(\"States\",\"Years\",\"Quarter\",\n",
    "                                               \"Transaction_type\",\"Transaction_count\",\"Transaction_amount\"))\n",
    "\n",
    "\n",
    "#aggregated_user_df\n",
    "\n",
    "cursor.execute(\"SELECT * FROM aggregated_user\")\n",
    "mydb.commit()\n",
    "table3 = cursor.fetchall()\n",
    "\n",
    "Aggre_user = pd.DataFrame(table3,columns=(\"States\",\"Years\",\"Quarter\",\n",
    "                                               \"Brands\",\"Transaction_count\",\"Percentage\"))\n",
    "\n",
    "\n",
    "#agmap_insurance_df\n",
    "\n",
    "cursor.execute(\"SELECT * FROM map_insurance\")\n",
    "mydb.commit()\n",
    "table4 = cursor.fetchall()\n",
    "\n",
    "map_insurance = pd.DataFrame(table4,columns=(\"States\",\"Years\",\"Quarter\",\n",
    "                                               \"Districts\",\"Transaction_count\",\"Transaction_amount\"))\n",
    "\n",
    "#map_transaction_df\n",
    "\n",
    "cursor.execute(\"SELECT * FROM map_transaction\")\n",
    "mydb.commit()\n",
    "table5 = cursor.fetchall()\n",
    "\n",
    "map_transaction = pd.DataFrame(table5,columns=(\"States\",\"Years\",\"Quarter\",\n",
    "                                               \"Districts\",\"Transaction_count\",\"Transaction_amount\"))\n",
    "\n",
    "\n",
    "#map_user_df\n",
    "\n",
    "cursor.execute(\"SELECT * FROM map_user\")\n",
    "mydb.commit()\n",
    "table6 = cursor.fetchall()\n",
    "\n",
    "map_user = pd.DataFrame(table6,columns=(\"States\",\"Years\",\"Quarter\",\n",
    "                                               \"Districts\",\"RegisteredUsers\",\"AppOpens\"))\n",
    "\n",
    "\n",
    "#top_insurance_df\n",
    "\n",
    "cursor.execute(\"SELECT * FROM top_insurance\")\n",
    "mydb.commit()\n",
    "table7 = cursor.fetchall()\n",
    "\n",
    "top_insurance = pd.DataFrame(table7,columns=(\"States\",\"Years\",\"Quarter\",\n",
    "                                               \"pincodes\",\"Transaction_count\",\"Transaction_amount\"))\n",
    "\n",
    "\n",
    "#top_transaction_df\n",
    "\n",
    "cursor.execute(\"SELECT * FROM top_transaction\")\n",
    "mydb.commit()\n",
    "table8 = cursor.fetchall()\n",
    "\n",
    "top_transaction = pd.DataFrame(table8,columns=(\"States\",\"Years\",\"Quarter\",\n",
    "                                               \"pincodes\",\"Transaction_count\",\"Transaction_amount\"))\n",
    "\n",
    "\n",
    "#top_user_df\n",
    "\n",
    "cursor.execute(\"SELECT * FROM top_user\")\n",
    "mydb.commit()\n",
    "table9 = cursor.fetchall()\n",
    "\n",
    "top_user = pd.DataFrame(table9,columns=(\"States\",\"Years\",\"Quarter\",\n",
    "                                               \"pincodes\",\"RegisteredUsers\"))\n",
    "\n"
   ]
  },
  {
   "cell_type": "code",
   "execution_count": 13,
   "metadata": {},
   "outputs": [],
   "source": [
    "# sql connection\n",
    "def top_chart_transaction_amount(table_name):\n",
    "    mydb=psycopg2.connect(host=\"localhost\",\n",
    "                        user=\"postgres\",\n",
    "                        password=\"8997\",\n",
    "                        database=\"phonepe_data\",\n",
    "                        port=\"5432\")\n",
    "    cursor=mydb.cursor()\n",
    "\n",
    "# plot_1 \n",
    "\n",
    "    query1 = f'''SELECT states,SUM(transaction_amount) AS transaction_amount\n",
    "            FROM {table_name}\n",
    "            GROUP BY states\n",
    "            ORDER BY transaction_amount DESC\n",
    "            LIMIT 10;'''\n",
    "            \n",
    "    cursor.execute(query1)\n",
    "    table_1 = cursor.fetchall()\n",
    "    mydb.commit()\n",
    "\n",
    "    df_1 = pd.DataFrame(table_1, columns=(\"states\", \"transaction_amount\"))\n",
    "\n",
    "    fig_amount_1 = px.bar(df_1, x=\"states\", y=\"transaction_amount\", title=\" State vise Transaction_amount TOP 10\",hover_name=\"states\",\n",
    "                        color_discrete_sequence=px.colors.sequential.Aggrnyl, height=450, width=400)\n",
    "\n",
    "    fig_amount_1.show()\n",
    "\n",
    "#plot_2\n",
    "\n",
    "    query2 = f'''SELECT states,SUM(transaction_amount) AS transaction_amount\n",
    "            FROM {table_name}\n",
    "            GROUP BY states\n",
    "            ORDER BY transaction_amount \n",
    "            LIMIT 10;'''\n",
    "            \n",
    "    cursor.execute(query2)\n",
    "    table_2 = cursor.fetchall()\n",
    "    mydb.commit()\n",
    "\n",
    "    df_2 = pd.DataFrame(table_2, columns=(\"states\", \"transaction_amount\"))\n",
    "\n",
    "    fig_amount_2 = px.bar(df_2, x=\"states\", y=\"transaction_amount\", title=\" State vise Transaction_amount LEAST 10\",hover_name=\"states\",\n",
    "                        color_discrete_sequence=px.colors.sequential.Aggrnyl_r, height=450, width=400)\n",
    "\n",
    "    fig_amount_2.show()\n",
    "\n",
    "# plot_3\n",
    "\n",
    "    query3 = f'''SELECT states, AVG(transaction_amount) AS transaction_amount\n",
    "            FROM {table_name}\n",
    "            GROUP BY states\n",
    "            ORDER BY transaction_amount '''\n",
    "            \n",
    "    cursor.execute(query3)\n",
    "    table_3 = cursor.fetchall()\n",
    "    mydb.commit()\n",
    "\n",
    "    df_3 = pd.DataFrame(table_3, columns=(\"states\", \"transaction_amount\"))\n",
    "\n",
    "    fig_amount_3 = px.bar(df_3, x=\"transaction_amount\", y=\"states\", title=\" State vise Transaction_amount AVERAGE\",hover_name=\"states\",\n",
    "                      orientation=\"h\",\n",
    "                        color_discrete_sequence=px.colors.sequential.Bluered_r, height=450, width=400)\n",
    "\n",
    "    fig_amount_3.show()\n",
    " "
   ]
  },
  {
   "cell_type": "code",
   "execution_count": null,
   "metadata": {},
   "outputs": [],
   "source": [
    "top_chart_transaction_amount(\"aggregated_transaction\")"
   ]
  },
  {
   "cell_type": "code",
   "execution_count": 20,
   "metadata": {},
   "outputs": [],
   "source": [
    "# sql connection\n",
    "def top_chart_transaction_count(table_name):\n",
    "    mydb=psycopg2.connect(host=\"localhost\",\n",
    "                        user=\"postgres\",\n",
    "                        password=\"8997\",\n",
    "                        database=\"phonepe_data\",\n",
    "                        port=\"5432\")\n",
    "    cursor=mydb.cursor()\n",
    "\n",
    "# plot_1 \n",
    "\n",
    "    query1 = f'''SELECT states,SUM(transaction_count) AS transaction_count\n",
    "            FROM {table_name}\n",
    "            GROUP BY states\n",
    "            ORDER BY transaction_count DESC\n",
    "            LIMIT 10;'''\n",
    "            \n",
    "    cursor.execute(query1)\n",
    "    table_1 = cursor.fetchall()\n",
    "    mydb.commit()\n",
    "\n",
    "    df_1 = pd.DataFrame(table_1, columns=(\"states\", \"transaction_count\"))\n",
    "\n",
    "    fig_amount_1 = px.bar(df_1, x=\"states\", y=\"transaction_count\", title=\" State vise Transaction_Count TOP 10\",hover_name=\"states\",\n",
    "                        color_discrete_sequence=px.colors.sequential.Aggrnyl, height=650, width=600)\n",
    "\n",
    "    fig_amount_1.show()\n",
    "\n",
    "#plot_2\n",
    "\n",
    "    query2 = f'''SELECT states,SUM(transaction_count) AS transaction_count\n",
    "            FROM {table_name}\n",
    "            GROUP BY states\n",
    "            ORDER BY transaction_count \n",
    "            LIMIT 10;'''\n",
    "            \n",
    "    cursor.execute(query2)\n",
    "    table_2 = cursor.fetchall()\n",
    "    mydb.commit()\n",
    "\n",
    "    df_2 = pd.DataFrame(table_2, columns=(\"states\", \"transaction_count\"))\n",
    "\n",
    "    fig_amount_2 = px.bar(df_2, x=\"states\", y=\"transaction_count\", title=\" State vise Transaction_Count LEAST 10\",hover_name=\"states\",\n",
    "                        color_discrete_sequence=px.colors.sequential.Aggrnyl_r, height=650, width=600)\n",
    "\n",
    "    fig_amount_2.show()\n",
    "\n",
    "# plot_3\n",
    "\n",
    "    query3 = f'''SELECT states, AVG(transaction_count) AS transaction_count\n",
    "            FROM {table_name}\n",
    "            GROUP BY states\n",
    "            ORDER BY transaction_count '''\n",
    "            \n",
    "    cursor.execute(query3)\n",
    "    table_3 = cursor.fetchall()\n",
    "    mydb.commit()\n",
    "\n",
    "    df_3 = pd.DataFrame(table_3, columns=(\"states\", \"transaction_count\"))\n",
    "\n",
    "    fig_amount_3 = px.bar(df_3, x=\"transaction_count\", y=\"states\", title=\" State vise Transaction_Count AVERAGE\",hover_name=\"states\",\n",
    "                      orientation=\"h\",\n",
    "                        color_discrete_sequence=px.colors.sequential.Bluered_r, height=900, width=1000)\n",
    "\n",
    "    fig_amount_3.show()\n",
    " "
   ]
  },
  {
   "cell_type": "code",
   "execution_count": null,
   "metadata": {},
   "outputs": [],
   "source": [
    "top_chart_transaction_count(\"aggregated_insurance\")"
   ]
  },
  {
   "cell_type": "code",
   "execution_count": 25,
   "metadata": {},
   "outputs": [],
   "source": [
    "# sql connection\n",
    "def top_chart_registered_user(table_name, state):\n",
    "    mydb=psycopg2.connect(host=\"localhost\",\n",
    "                        user=\"postgres\",\n",
    "                        password=\"8997\",\n",
    "                        database=\"phonepe_data\",\n",
    "                        port=\"5432\")\n",
    "    cursor=mydb.cursor()\n",
    "\n",
    "# plot_1 \n",
    "\n",
    "    query1 = f'''SELECT districts,SUM(registeredusers) AS registeredusers \n",
    "                 FROM {table_name}\n",
    "                 WHERE states = '{state}'\n",
    "                 GROUP BY districts\n",
    "                 ORDER BY registeredusers DESC\n",
    "                 LIMIT 10;'''\n",
    "            \n",
    "    cursor.execute(query1)\n",
    "    table_1 = cursor.fetchall()\n",
    "    mydb.commit()\n",
    "\n",
    "    df_1 = pd.DataFrame(table_1, columns=(\"districts\", \"registeredusers\"))\n",
    "\n",
    "    fig_amount_1 = px.bar(df_1, x=\"districts\", y=\"registeredusers\", title=\" TOP 10 of District Vise Registered User\",hover_name=\"districts\",\n",
    "                        color_discrete_sequence=px.colors.sequential.Aggrnyl, height=650, width=600)\n",
    "\n",
    "    fig_amount_1.show()\n",
    "\n",
    "#plot_2\n",
    "\n",
    "    query2 = f'''SELECT districts,SUM(registeredusers) AS registeredusers \n",
    "                 FROM {table_name}\n",
    "                 WHERE states = '{state}'\n",
    "                 GROUP BY districts\n",
    "                 ORDER BY registeredusers\n",
    "                 LIMIT 10;'''\n",
    "            \n",
    "    cursor.execute(query2)\n",
    "    table_2 = cursor.fetchall()\n",
    "    mydb.commit()\n",
    "\n",
    "    df_2 = pd.DataFrame(table_2, columns=(\"districts\", \"registeredusers\"))\n",
    "\n",
    "    fig_amount_2 = px.bar(df_2, x=\"districts\", y=\"registeredusers\", title=\"LEAST 10 of District Vise Registered User \",hover_name=\"districts\",\n",
    "                        color_discrete_sequence=px.colors.sequential.Aggrnyl_r, height=650, width=600)\n",
    "\n",
    "    fig_amount_2.show()\n",
    "\n",
    "# plot_3\n",
    "\n",
    "    query3 = f'''SELECT districts, AVG(registeredusers) AS registeredusers \n",
    "                 FROM {table_name}\n",
    "                 WHERE states = '{state}'\n",
    "                 GROUP BY districts\n",
    "                 ORDER BY registeredusers;'''\n",
    "            \n",
    "    cursor.execute(query3)\n",
    "    table_3 = cursor.fetchall()\n",
    "    mydb.commit()\n",
    "\n",
    "    df_3 = pd.DataFrame(table_3, columns=(\"districts\", \"registeredusers\"))\n",
    "\n",
    "    fig_amount_3 = px.bar(df_3, x=\"registeredusers\", y=\"districts\", title=\"AVERAGE of District Vise Transaction_amount \",hover_name=\"districts\",\n",
    "                      orientation=\"h\",\n",
    "                        color_discrete_sequence=px.colors.sequential.Bluered_r, height=900, width=1000)\n",
    "\n",
    "    fig_amount_3.show()\n",
    " "
   ]
  },
  {
   "cell_type": "code",
   "execution_count": null,
   "metadata": {},
   "outputs": [],
   "source": [
    "top_chart_registered_user(\"map_user\", \"Tamil Nadu\")"
   ]
  },
  {
   "cell_type": "code",
   "execution_count": 27,
   "metadata": {},
   "outputs": [],
   "source": [
    "# sql connection\n",
    "def top_chart_appopens(table_name, state):\n",
    "    mydb=psycopg2.connect(host=\"localhost\",\n",
    "                        user=\"postgres\",\n",
    "                        password=\"8997\",\n",
    "                        database=\"phonepe_data\",\n",
    "                        port=\"5432\")\n",
    "    cursor=mydb.cursor()\n",
    "\n",
    "# plot_1 \n",
    "\n",
    "    query1 = f'''SELECT districts,SUM(appopens) AS appopens \n",
    "                 FROM {table_name}\n",
    "                 WHERE states = '{state}'\n",
    "                 GROUP BY districts\n",
    "                 ORDER BY appopens DESC\n",
    "                 LIMIT 10;'''\n",
    "            \n",
    "    cursor.execute(query1)\n",
    "    table_1 = cursor.fetchall()\n",
    "    mydb.commit()\n",
    "\n",
    "    df_1 = pd.DataFrame(table_1, columns=(\"districts\", \"appopens\"))\n",
    "\n",
    "    fig_amount_1 = px.bar(df_1, x=\"districts\", y=\"appopens\", title=\" TOP 10 of District Vise APPOPENS\",hover_name=\"districts\",\n",
    "                        color_discrete_sequence=px.colors.sequential.Aggrnyl, height=650, width=600)\n",
    "\n",
    "    fig_amount_1.show()\n",
    "\n",
    "#plot_2\n",
    "\n",
    "    query2 = f'''SELECT districts,SUM(appopens) AS appopens \n",
    "                 FROM {table_name}\n",
    "                 WHERE states = '{state}'\n",
    "                 GROUP BY districts\n",
    "                 ORDER BY appopens\n",
    "                 LIMIT 10;'''\n",
    "            \n",
    "    cursor.execute(query2)\n",
    "    table_2 = cursor.fetchall()\n",
    "    mydb.commit()\n",
    "\n",
    "    df_2 = pd.DataFrame(table_2, columns=(\"districts\", \"appopens\"))\n",
    "\n",
    "    fig_amount_2 = px.bar(df_2, x=\"districts\", y=\"appopens\", title=\"LEAST 10 of District Vise APPOPENS \",hover_name=\"districts\",\n",
    "                        color_discrete_sequence=px.colors.sequential.Aggrnyl_r, height=650, width=600)\n",
    "\n",
    "    fig_amount_2.show()\n",
    "\n",
    "# plot_3\n",
    "\n",
    "    query3 = f'''SELECT districts, AVG(appopens) AS appopens \n",
    "                 FROM {table_name}\n",
    "                 WHERE states = '{state}'\n",
    "                 GROUP BY districts\n",
    "                 ORDER BY appopens;'''\n",
    "            \n",
    "    cursor.execute(query3)\n",
    "    table_3 = cursor.fetchall()\n",
    "    mydb.commit()\n",
    "\n",
    "    df_3 = pd.DataFrame(table_3, columns=(\"districts\", \"appopens\"))\n",
    "\n",
    "    fig_amount_3 = px.bar(df_3, x=\"appopens\", y=\"districts\", title=\"AVERAGE of District Vise APPOPENS \",hover_name=\"districts\",\n",
    "                      orientation=\"h\",\n",
    "                        color_discrete_sequence=px.colors.sequential.Bluered_r, height=900, width=1000)\n",
    "\n",
    "    fig_amount_3.show()\n",
    " "
   ]
  },
  {
   "cell_type": "code",
   "execution_count": null,
   "metadata": {},
   "outputs": [],
   "source": [
    "top_chart_appopens(\"map_user\", \"Tamil Nadu\")"
   ]
  },
  {
   "cell_type": "code",
   "execution_count": 29,
   "metadata": {},
   "outputs": [],
   "source": [
    "# sql connection\n",
    "def top_chart_registered_users(table_name):\n",
    "    mydb=psycopg2.connect(host=\"localhost\",\n",
    "                        user=\"postgres\",\n",
    "                        password=\"8997\",\n",
    "                        database=\"phonepe_data\",\n",
    "                        port=\"5432\")\n",
    "    cursor=mydb.cursor()\n",
    "\n",
    "# plot_1 \n",
    "\n",
    "    query1 = f'''SELECT states,SUM(registeredusers) AS registeredusers \n",
    "                 FROM {table_name}\n",
    "                 GROUP BY states\n",
    "                 ORDER BY registeredusers DESC\n",
    "                 LIMIT 10;'''\n",
    "            \n",
    "    cursor.execute(query1)\n",
    "    table_1 = cursor.fetchall()\n",
    "    mydb.commit()\n",
    "\n",
    "    df_1 = pd.DataFrame(table_1, columns=(\"states\", \"registeredusers\"))\n",
    "\n",
    "    fig_amount_1 = px.bar(df_1, x=\"states\", y=\"registeredusers\", title=\" TOP 10 of State Vise Registered User\",hover_name=\"states\",\n",
    "                        color_discrete_sequence=px.colors.sequential.Aggrnyl, height=650, width=600)\n",
    "\n",
    "    fig_amount_1.show()\n",
    "\n",
    "#plot_2\n",
    "\n",
    "    query2 = f'''SELECT states,SUM(registeredusers) AS registeredusers \n",
    "                 FROM {table_name}\n",
    "                 GROUP BY states\n",
    "                 ORDER BY registeredusers \n",
    "                 LIMIT 10;'''\n",
    "            \n",
    "    cursor.execute(query2)\n",
    "    table_2 = cursor.fetchall()\n",
    "    mydb.commit()\n",
    "\n",
    "    df_2 = pd.DataFrame(table_2, columns=(\"states\", \"registeredusers\"))\n",
    "\n",
    "    fig_amount_2 = px.bar(df_2, x=\"states\", y=\"registeredusers\", title=\"LEAST 10 of State Vise Registered User \",hover_name=\"states\",\n",
    "                        color_discrete_sequence=px.colors.sequential.Aggrnyl_r, height=650, width=600)\n",
    "\n",
    "    fig_amount_2.show()\n",
    "\n",
    "# plot_3\n",
    "\n",
    "    query3 = f'''SELECT states,AVG(registeredusers) AS registeredusers \n",
    "                 FROM {table_name}\n",
    "                 GROUP BY states\n",
    "                 ORDER BY registeredusers;'''\n",
    "            \n",
    "    cursor.execute(query3)\n",
    "    table_3 = cursor.fetchall()\n",
    "    mydb.commit()\n",
    "\n",
    "    df_3 = pd.DataFrame(table_3, columns=(\"states\", \"registeredusers\"))\n",
    "\n",
    "    fig_amount_3 = px.bar(df_3, x=\"registeredusers\", y=\"states\", title=\"AVERAGE of State Vise Transaction_amount \",hover_name=\"states\",\n",
    "                      orientation=\"h\",\n",
    "                        color_discrete_sequence=px.colors.sequential.Bluered_r, height=900, width=1000)\n",
    "\n",
    "    fig_amount_3.show()\n",
    " "
   ]
  },
  {
   "cell_type": "code",
   "execution_count": null,
   "metadata": {},
   "outputs": [],
   "source": [
    "top_chart_registered_users(\"top_user\")"
   ]
  },
  {
   "cell_type": "code",
   "execution_count": 111,
   "metadata": {},
   "outputs": [],
   "source": [
    "def Transaction_amount_count_Y(df, year):\n",
    "    tacy = df[df[\"Years\"]==year]\n",
    "    tacy.reset_index(drop=True, inplace=True)\n",
    "\n",
    "    tacyg = tacy.groupby(\"States\")[[\"Transaction_count\",\"Transaction_amount\"]].sum()\n",
    "    tacyg.reset_index(inplace=True)\n",
    "\n",
    "    fig_amount = px.bar(tacyg, x=\"States\", y=\"Transaction_amount\", title=f\"{year} State vise Transaction_amount\",\n",
    "                        color_discrete_sequence=px.colors.sequential.Aggrnyl, height=450, width=400)\n",
    "\n",
    "    fig_amount.show()\n",
    "\n",
    "    fig_count = px.bar(tacyg, x=\"States\", y=\"Transaction_count\", title=f\"{year} State vise Transaction_count\",\n",
    "                        color_discrete_sequence=px.colors.sequential.Bluered_r, height=450, width=400)\n",
    "\n",
    "    fig_count.show()\n",
    "    \n",
    "    url = \"https://gist.githubusercontent.com/jbrobst/56c13bbbf9d97d187fea01ca62ea5112/raw/e388c4cae20aa53cb5090210a42ebb9b765c0a36/india_states.geojson\"\n",
    "\n",
    "    response = requests.get(url)\n",
    "    data1 = json.loads(response.content)\n",
    "\n",
    "    states_name = []\n",
    "    for feature in data1[\"features\"]:\n",
    "        states_name.append(feature[\"properties\"][\"ST_NM\"])\n",
    "        \n",
    "    states_name.sort()\n",
    "\n",
    "    fig_india_1 = px.choropleth(tacyg, geojson=data1, locations= \"States\", featureidkey= \"properties.ST_NM\",\n",
    "                                color= \"Transaction_amount\",\n",
    "                                color_continuous_scale= \"Rainbow\",\n",
    "                                range_color= (tacyg[\"Transaction_amount\"].min(), tacyg[\"Transaction_amount\"].max()),\n",
    "                                hover_name= \"States\",\n",
    "                                title= f\"{year} TRANSACTION AMOUNT\",\n",
    "                                fitbounds= \"locations\",\n",
    "                                height=600, width=600)\n",
    "    fig_india_1.update_geos(visible=False)\n",
    "    fig_india_1.show()\n",
    "    \n",
    "    fig_india_2 = px.choropleth(tacyg, geojson=data1, locations= \"States\", featureidkey= \"properties.ST_NM\",\n",
    "                                color= \"Transaction_count\",\n",
    "                                color_continuous_scale= \"Rainbow\",\n",
    "                                range_color= (tacyg[\"Transaction_count\"].min(), tacyg[\"Transaction_count\"].max()),\n",
    "                                hover_name= \"States\",\n",
    "                                title= f\"{year} TRANSACTION COUNT\",\n",
    "                                fitbounds= \"locations\",\n",
    "                                height=600, width=600)\n",
    "    fig_india_2.update_geos(visible=False)\n",
    "    fig_india_2.show()\n",
    "    \n",
    "    return tacy\n",
    "    \n"
   ]
  },
  {
   "cell_type": "code",
   "execution_count": null,
   "metadata": {},
   "outputs": [],
   "source": [
    "tac_Y = Transaction_amount_count_Y(Aggre_insurance, 2023)"
   ]
  },
  {
   "cell_type": "code",
   "execution_count": 113,
   "metadata": {},
   "outputs": [],
   "source": [
    "def Transaction_amount_count_Y_Q(df, quarter):\n",
    "    tacy = df[df[\"Quarter\"]==quarter]\n",
    "    tacy.reset_index(drop=True, inplace=True)\n",
    "\n",
    "    tacyg = tacy.groupby(\"States\")[[\"Transaction_count\",\"Transaction_amount\"]].sum()\n",
    "    tacyg.reset_index(inplace=True)\n",
    "\n",
    "    fig_amount = px.bar(tacyg, x=\"States\", y=\"Transaction_amount\", title=f\"{tacy['Years'].min()} YEAR {quarter} QUARTER TRANSACTION AMOUNT\",\n",
    "                        color_discrete_sequence=px.colors.sequential.Aggrnyl, height=450, width=400)\n",
    "\n",
    "    fig_amount.show()\n",
    "\n",
    "    fig_count = px.bar(tacyg, x=\"States\", y=\"Transaction_count\", title=f\"{tacy['Years'].min()} YEAR {quarter} QUARTER TRANSACTION COUNT\",\n",
    "                        color_discrete_sequence=px.colors.sequential.Bluered_r, height=450, width=400)\n",
    "\n",
    "    fig_count.show()\n",
    "    \n",
    "    url = \"https://gist.githubusercontent.com/jbrobst/56c13bbbf9d97d187fea01ca62ea5112/raw/e388c4cae20aa53cb5090210a42ebb9b765c0a36/india_states.geojson\"\n",
    "\n",
    "    response = requests.get(url,verify=False)\n",
    "    data1 = json.loads(response.content)\n",
    "\n",
    "    states_name = []\n",
    "    for feature in data1[\"features\"]:\n",
    "        states_name.append(feature[\"properties\"][\"ST_NM\"])\n",
    "        \n",
    "    states_name.sort()\n",
    "\n",
    "    fig_india_1 = px.choropleth(tacyg, geojson=data1, locations= \"States\", featureidkey= \"properties.ST_NM\",\n",
    "                                color= \"Transaction_amount\",\n",
    "                                color_continuous_scale= \"Rainbow\",\n",
    "                                range_color= (tacyg[\"Transaction_amount\"].min(), tacyg[\"Transaction_amount\"].max()),\n",
    "                                hover_name= \"States\",\n",
    "                                title= f\"{tacy['Years'].min()} Year {quarter} QUARTER TRANSACTION AMOUNT\",\n",
    "                                fitbounds= \"locations\",\n",
    "                                height=600, width=600)\n",
    "    fig_india_1.update_geos(visible=True)\n",
    "    fig_india_1.show()\n",
    "    \n",
    "    fig_india_2 = px.choropleth(tacyg, geojson=data1, locations= \"States\", featureidkey= \"properties.ST_NM\",\n",
    "                                color= \"Transaction_count\",\n",
    "                                color_continuous_scale= \"Rainbow\",\n",
    "                                range_color= (tacyg[\"Transaction_count\"].min(), tacyg[\"Transaction_count\"].max()),\n",
    "                                hover_name= \"States\",\n",
    "                                title= f\"{tacy['Years'].min()} Year {quarter} QUARTER TRANSACTION COUNT\",\n",
    "                                fitbounds= \"locations\",\n",
    "                                height=600, width=600)\n",
    "    fig_india_2.update_geos(visible=False)\n",
    "    fig_india_2.show()\n",
    "    \n",
    "    return tacy\n",
    "    \n",
    "    \n",
    "    \n"
   ]
  },
  {
   "cell_type": "code",
   "execution_count": 114,
   "metadata": {},
   "outputs": [],
   "source": [
    "#Tran\n",
    "\n",
    "def Aggree_Tran_Transaction_type(df, state):\n",
    "\n",
    "    tacy = df[df[\"States\"] == state ]\n",
    "    tacy.reset_index(drop=True, inplace=True)\n",
    "\n",
    "    tacyg = tacy.groupby(\"Transaction_type\")[[\"Transaction_count\",\"Transaction_amount\"]].sum()\n",
    "    tacyg.reset_index(inplace=True)\n",
    "\n",
    "    fig_pie_1 = px.pie(data_frame= tacyg, names=\"Transaction_type\", values= \"Transaction_amount\",\n",
    "                    width = 600, title = f\"{state.upper()} TRANSACTION AMOUNT\", hole= 0.5,)\n",
    "\n",
    "    fig_pie_1.show()\n",
    "\n",
    "    fig_pie_2 = px.pie(data_frame= tacyg, names=\"Transaction_type\", values= \"Transaction_count\",\n",
    "                    width = 600, title = f\"{state.upper()} TRANSACTION COUNT\", hole= 0.5,)\n",
    "\n",
    "    fig_pie_2.show()"
   ]
  },
  {
   "cell_type": "code",
   "execution_count": 115,
   "metadata": {},
   "outputs": [],
   "source": [
    "#Aggre_user_analysis_1\n",
    "\n",
    "def Aggre_user_plot_1(df,year):\n",
    "\n",
    "    aguy = df[df[\"Years\"]==year]\n",
    "    aguy.reset_index(drop=True, inplace=True)\n",
    "\n",
    "    aguyg = pd.DataFrame(aguy.groupby(\"Brands\")[\"Transaction_count\"].sum())\n",
    "    aguyg.reset_index(inplace=True)\n",
    "\n",
    "    fig_bar_1 = px.bar(aguy, x=\"Brands\", y=\"Transaction_count\", title= f\"{year} BRANDS AND TRANSACTION COUNT\",\n",
    "                    width = 1000, color_discrete_sequence = px.colors.sequential.haline,\n",
    "                    hover_name=\"Brands\")\n",
    "    fig_bar_1.show()\n",
    "    \n",
    "    return aguy"
   ]
  },
  {
   "cell_type": "code",
   "execution_count": 116,
   "metadata": {},
   "outputs": [],
   "source": [
    "def Aggre_user_plot_2(df,quarter):\n",
    "\n",
    "    aguyq = df[df[\"Quarter\"]==quarter]\n",
    "    aguyq.reset_index(drop=True, inplace=True)\n",
    "\n",
    "    aguyqg = pd.DataFrame(aguyq.groupby(\"Brands\")[\"Transaction_count\"].sum())\n",
    "    aguyqg.reset_index(inplace=True)\n",
    "\n",
    "    fig_bar_1 = px.bar(aguyq, x=\"Brands\", y=\"Transaction_count\", title= f\"{quarter} BRANDS AND TRANSACTION COUNT\",\n",
    "                    width = 1000, color_discrete_sequence = px.colors.sequential.haline,\n",
    "                    hover_name=\"Brands\")\n",
    "    fig_bar_1.show()\n",
    "    \n",
    "    return aguyq"
   ]
  },
  {
   "cell_type": "code",
   "execution_count": 117,
   "metadata": {},
   "outputs": [],
   "source": [
    "def Aggre_user_plot_3(df, state):\n",
    "    augygs = df[df[\"States\"]== state]\n",
    "    augygs.reset_index(drop=True, inplace=True)\n",
    "\n",
    "    fig_line_1 = px.line(augygs, x=\"Brands\", y=\"Transaction_count\", hover_data=\"Percentage\",\n",
    "                        title =\"BRANDS , TRANSACTION COUNT, PERCENTAGE\",\n",
    "                        width=1000, markers=True)\n",
    "    fig_line_1.show()"
   ]
  },
  {
   "cell_type": "code",
   "execution_count": 118,
   "metadata": {},
   "outputs": [],
   "source": [
    "#map_insurance_district\n",
    "\n",
    "def Map_insur_Districts(df, state):\n",
    "\n",
    "    tacy = df[df[\"States\"] == state ]\n",
    "    tacy.reset_index(drop=True, inplace=True)\n",
    "\n",
    "    tacyg = tacy.groupby(\"Districts\")[[\"Transaction_count\",\"Transaction_amount\"]].sum()\n",
    "    tacyg.reset_index(inplace=True)\n",
    "\n",
    "    fig_bar_1 = px.bar(tacyg, x=\"Transaction_amount\", y= \"Districts\", orientation=\"h\",height=600,\n",
    "                       title=f\"{state} DISTRICT AND TRANSACTION AMOUNT\", color_discrete_sequence = px.colors.sequential.Mint_r)\n",
    "\n",
    "    fig_bar_1.show()\n",
    "\n",
    "    fig_bar_2 = px.bar(tacyg, x=\"Transaction_count\", y= \"Districts\", orientation=\"h\", height=600,\n",
    "                       title=f\"{state} DISTRICT AND TRANSACTION AMOUNT\", color_discrete_sequence = px.colors.sequential.Bluered_r)\n",
    "\n",
    "    fig_bar_2.show()"
   ]
  },
  {
   "cell_type": "code",
   "execution_count": 119,
   "metadata": {},
   "outputs": [],
   "source": [
    "#map_user_plot_1\n",
    "def Map_user_plot_1(df,year):\n",
    "\n",
    "    muy = df[df[\"Years\"]==year]\n",
    "    muy.reset_index(drop=True, inplace=True)\n",
    "\n",
    "\n",
    "    muyg= muy.groupby(\"States\")[[\"RegisteredUsers\", \"AppOpens\"]].sum()\n",
    "    muyg.reset_index(inplace=True)\n",
    "\n",
    "    fig_line_1 = px.line(muyg, x=\"States\", y=[\"RegisteredUsers\", \"AppOpens\"], \n",
    "                            title =f\"{year} REGISTERED USER AND APPOPENS\",\n",
    "                            width=1000, height= 800, markers=True)\n",
    "    fig_line_1.show()\n",
    "    \n",
    "    return muy\n",
    "\n"
   ]
  },
  {
   "cell_type": "code",
   "execution_count": 120,
   "metadata": {},
   "outputs": [],
   "source": [
    "#map_user_plot_2\n",
    "def Map_user_plot_2(df,quarter):\n",
    "\n",
    "    muyq = df[df[\"Quarter\"]==quarter]\n",
    "    muyq.reset_index(drop=True, inplace=True)\n",
    "\n",
    "\n",
    "    muyqg= muyq.groupby(\"States\")[[\"RegisteredUsers\", \"AppOpens\"]].sum()\n",
    "    muyqg.reset_index(inplace=True)\n",
    "\n",
    "    fig_line_2 = px.line(muyqg, x=\"States\", y=[\"RegisteredUsers\", \"AppOpens\"], \n",
    "                            title =f\"{df['Years'].min()} YEAR {quarter} QUARTER REGISTERED USER AND APPOPENS\",\n",
    "                            width=1000, height= 800, markers=True,\n",
    "                            color_discrete_sequence = px.colors.sequential.Rainbow_r)\n",
    "    fig_line_2.show()\n",
    "    \n",
    "    return muyq\n",
    "\n"
   ]
  },
  {
   "cell_type": "code",
   "execution_count": 121,
   "metadata": {},
   "outputs": [],
   "source": [
    "#map_user_plot_3\n",
    "def Map_user_plot_3(df,state):\n",
    "\n",
    "    muyqs = df[df[\"States\"]==state]\n",
    "    muyqs.reset_index(drop=True, inplace=True)\n",
    "    muyqs\n",
    "\n",
    "    fig_map_user_bar_1 = px.bar(muyqs, x=\"RegisteredUsers\", y=\"Districts\", orientation=\"h\",\n",
    "                                title= \"REGISTERED USER\", height= 800, color_discrete_sequence = px.colors.sequential.Rainbow_r)\n",
    "    fig_map_user_bar_1.show()\n",
    "\n",
    "    fig_map_user_bar_2 = px.bar(muyqs, x=\"AppOpens\", y=\"Districts\", orientation=\"h\",\n",
    "                                title= \"APPOPENS\", height= 800, color_discrete_sequence = px.colors.sequential.Rainbow)\n",
    "    fig_map_user_bar_2.show()"
   ]
  },
  {
   "cell_type": "code",
   "execution_count": 157,
   "metadata": {},
   "outputs": [],
   "source": [
    "# Top_insurance_\n",
    "\n",
    "def Top_insurance_plot_1(df,state):\n",
    "    tiy = df[df[\"States\"]== state]\n",
    "    tiy.reset_index(drop=True, inplace=True)\n",
    "\n",
    "\n",
    "    tiyg= tiy.groupby(\"pincodes\")[[\"Transaction_count\", \"Transaction_amount\"]].sum()\n",
    "    tiyg.reset_index(inplace=True)\n",
    "\n",
    "    fig_top_insur_bar1 = px.bar(tiy, x=\"Quarter\", y=\"Transaction_amount\",hover_data=\"pincodes\",\n",
    "                                    title= \"TOP USER TRANSACTION AMOUNT\", height= 650,width=600, color_discrete_sequence = px.colors.sequential.GnBu_r)\n",
    "\n",
    "    fig_top_insur_bar1.show()\n",
    "    \n",
    "    fig_top_insur_bar2 = px.bar(tiy, x=\"Quarter\", y=\"Transaction_count\",hover_data=\"pincodes\",\n",
    "                                    title= \"TOP USER TRANSACTION AMOUNT\", height= 650,width=600, color_discrete_sequence = px.colors.sequential.Agsunset_r)\n",
    "\n",
    "    fig_top_insur_bar2.show()\n",
    "    \n",
    "    "
   ]
  },
  {
   "cell_type": "code",
   "execution_count": 175,
   "metadata": {},
   "outputs": [],
   "source": [
    "def Top_user_plot_1(df,year):\n",
    "    tuy = df[df[\"Years\"]== year]\n",
    "    tuy.reset_index(drop=True, inplace=True)\n",
    "\n",
    "\n",
    "    tuyg= pd.DataFrame(tuy.groupby([\"States\", \"Quarter\"])[\"RegisteredUsers\"].sum())\n",
    "    tuyg.reset_index(inplace=True)\n",
    "\n",
    "    fig_top_plot_1 = px.bar(tuyg, x=\"States\", y=\"RegisteredUsers\",color=\"Quarter\", hover_name=\"States\",\n",
    "                            width=1000, height= 800, color_discrete_sequence = px.colors.sequential.Burgyl,\n",
    "                            title=f\"{year} REGISTERED USER\")\n",
    "\n",
    "    fig_top_plot_1.show()\n",
    "    \n",
    "    return tuy\n",
    "\n"
   ]
  },
  {
   "cell_type": "code",
   "execution_count": 180,
   "metadata": {},
   "outputs": [],
   "source": [
    "def Top_user_plot_2(df, state):\n",
    "    tuys = df[df[\"States\"]== state]\n",
    "    tuys.reset_index(drop=True, inplace=True)\n",
    "\n",
    "    fig_top_plot_2 = px.bar(tuys, x=\"Quarter\", y=\"RegisteredUsers\", title=f\"{state} REGISTERED USERS AND PINCODES\",\n",
    "                            width=1000, height=800, color=\"RegisteredUsers\", hover_data=\"pincodes\",\n",
    "                            color_continuous_scale = px.colors.sequential.Magenta)\n",
    "    fig_top_plot_2.show()\n",
    "\n",
    "\n",
    "\n"
   ]
  },
  {
   "cell_type": "markdown",
   "metadata": {},
   "source": [
    "## AGGREGATED_INSURANCE"
   ]
  },
  {
   "cell_type": "code",
   "execution_count": null,
   "metadata": {},
   "outputs": [],
   "source": [
    "tac_Y = Transaction_amount_count_Y(Aggre_insurance, 2023)"
   ]
  },
  {
   "cell_type": "code",
   "execution_count": null,
   "metadata": {},
   "outputs": [],
   "source": [
    "Transaction_amount_count_Y_Q(tac_Y, 3)"
   ]
  },
  {
   "cell_type": "markdown",
   "metadata": {},
   "source": [
    "## AGGREGATED TRANSACTION"
   ]
  },
  {
   "cell_type": "code",
   "execution_count": null,
   "metadata": {},
   "outputs": [],
   "source": [
    "Aggre_tran_tac_Y = Transaction_amount_count_Y(Aggre_transaction, 2023)"
   ]
  },
  {
   "cell_type": "code",
   "execution_count": null,
   "metadata": {},
   "outputs": [],
   "source": [
    "Aggree_Tran_Transaction_type(Aggre_tran_tac_Y, \"Arunachal Pradesh\")"
   ]
  },
  {
   "cell_type": "code",
   "execution_count": null,
   "metadata": {},
   "outputs": [],
   "source": [
    "Aggre_tran_tac_Y_Q = Transaction_amount_count_Y_Q(Aggre_tran_tac_Y, 3)"
   ]
  },
  {
   "cell_type": "code",
   "execution_count": null,
   "metadata": {},
   "outputs": [],
   "source": [
    "Aggree_Tran_Transaction_type(Aggre_tran_tac_Y_Q, \"Arunachal Pradesh\")"
   ]
  },
  {
   "cell_type": "markdown",
   "metadata": {},
   "source": [
    "## AGGREGATED USER"
   ]
  },
  {
   "cell_type": "code",
   "execution_count": null,
   "metadata": {},
   "outputs": [],
   "source": [
    "Aggre_user_Y = Aggre_user_plot_1(Aggre_user,2018)"
   ]
  },
  {
   "cell_type": "code",
   "execution_count": null,
   "metadata": {},
   "outputs": [],
   "source": [
    "Aggre_user_Y"
   ]
  },
  {
   "cell_type": "code",
   "execution_count": null,
   "metadata": {},
   "outputs": [],
   "source": [
    "Aggre_user_Y_Q = Aggre_user_plot_2(Aggre_user_Y,3)"
   ]
  },
  {
   "cell_type": "code",
   "execution_count": null,
   "metadata": {},
   "outputs": [],
   "source": [
    "Aggre_user_Y_Q"
   ]
  },
  {
   "cell_type": "code",
   "execution_count": null,
   "metadata": {},
   "outputs": [],
   "source": [
    "Aggre_user_plot_3(Aggre_user_Y_Q,\"Andaman & Nicobar\")"
   ]
  },
  {
   "cell_type": "markdown",
   "metadata": {},
   "source": [
    "### MAP INSURANCE\n"
   ]
  },
  {
   "cell_type": "code",
   "execution_count": null,
   "metadata": {},
   "outputs": [],
   "source": [
    "Map_insur_tac_Y = Transaction_amount_count_Y(map_insurance, 2023)"
   ]
  },
  {
   "cell_type": "code",
   "execution_count": null,
   "metadata": {},
   "outputs": [],
   "source": [
    "Map_insur_Districts(Map_insur_tac_Y, \"West Bengal\")"
   ]
  },
  {
   "cell_type": "code",
   "execution_count": null,
   "metadata": {},
   "outputs": [],
   "source": [
    "Map_insur_tac_Y_Q = Transaction_amount_count_Y_Q(Map_insur_tac_Y, 3)"
   ]
  },
  {
   "cell_type": "code",
   "execution_count": null,
   "metadata": {},
   "outputs": [],
   "source": [
    "Map_insur_Districts(Map_insur_tac_Y_Q, \"Arunachal Pradesh\")"
   ]
  },
  {
   "cell_type": "markdown",
   "metadata": {},
   "source": [
    "### MAP TRANSACTION"
   ]
  },
  {
   "cell_type": "code",
   "execution_count": null,
   "metadata": {},
   "outputs": [],
   "source": [
    "Map_tran_tac_Y = Transaction_amount_count_Y(map_transaction, 2023)"
   ]
  },
  {
   "cell_type": "code",
   "execution_count": null,
   "metadata": {},
   "outputs": [],
   "source": [
    "Map_insur_Districts(Map_tran_tac_Y, \"West Bengal\")"
   ]
  },
  {
   "cell_type": "code",
   "execution_count": null,
   "metadata": {},
   "outputs": [],
   "source": [
    "Map_tran_tac_Y_Q = Transaction_amount_count_Y_Q(Map_tran_tac_Y, 3)"
   ]
  },
  {
   "cell_type": "code",
   "execution_count": null,
   "metadata": {},
   "outputs": [],
   "source": [
    "Map_insur_Districts(Map_tran_tac_Y_Q, \"Arunachal Pradesh\")"
   ]
  },
  {
   "cell_type": "markdown",
   "metadata": {},
   "source": [
    "### MAP USER"
   ]
  },
  {
   "cell_type": "code",
   "execution_count": null,
   "metadata": {},
   "outputs": [],
   "source": [
    "Map_user_Y = Map_user_plot_1(map_user,2020)"
   ]
  },
  {
   "cell_type": "code",
   "execution_count": null,
   "metadata": {},
   "outputs": [],
   "source": [
    "Map_user_Y_Q = Map_user_plot_2(Map_user_Y,2)"
   ]
  },
  {
   "cell_type": "code",
   "execution_count": null,
   "metadata": {},
   "outputs": [],
   "source": [
    "Map_user_Y_Q"
   ]
  },
  {
   "cell_type": "code",
   "execution_count": null,
   "metadata": {},
   "outputs": [],
   "source": [
    "Map_user_plot_3(Map_user_Y_Q,\"West Bengal\")"
   ]
  },
  {
   "cell_type": "markdown",
   "metadata": {},
   "source": [
    "## TOP INSURANCE"
   ]
  },
  {
   "cell_type": "code",
   "execution_count": null,
   "metadata": {},
   "outputs": [],
   "source": [
    "Top_insur_tac_Y = Transaction_amount_count_Y(top_insurance, 2023)"
   ]
  },
  {
   "cell_type": "code",
   "execution_count": null,
   "metadata": {},
   "outputs": [],
   "source": [
    "Top_insurance_plot_1(Top_insur_tac_Y,\"Andaman & Nicobar\")"
   ]
  },
  {
   "cell_type": "code",
   "execution_count": null,
   "metadata": {},
   "outputs": [],
   "source": [
    "Top_insur_tac_Y_Q = Transaction_amount_count_Y_Q(Top_insur_tac_Y, 3)"
   ]
  },
  {
   "cell_type": "markdown",
   "metadata": {},
   "source": [
    "## TOP TRANSACTION"
   ]
  },
  {
   "cell_type": "code",
   "execution_count": null,
   "metadata": {},
   "outputs": [],
   "source": [
    "Top_tran_tac_Y = Transaction_amount_count_Y(top_transaction, 2023)"
   ]
  },
  {
   "cell_type": "code",
   "execution_count": null,
   "metadata": {},
   "outputs": [],
   "source": [
    "Top_insurance_plot_1(Top_tran_tac_Y,\"Andaman & Nicobar\")"
   ]
  },
  {
   "cell_type": "code",
   "execution_count": null,
   "metadata": {},
   "outputs": [],
   "source": [
    "Top_tran_tac_Y_Q = Transaction_amount_count_Y_Q(Top_tran_tac_Y, 3)"
   ]
  },
  {
   "cell_type": "markdown",
   "metadata": {},
   "source": [
    "## TOP USER"
   ]
  },
  {
   "cell_type": "code",
   "execution_count": null,
   "metadata": {},
   "outputs": [],
   "source": [
    "Top_user_Y = Top_user_plot_1(top_user, 2023)"
   ]
  },
  {
   "cell_type": "code",
   "execution_count": null,
   "metadata": {},
   "outputs": [],
   "source": [
    "Top_user_plot_2(Top_user_Y, \"Andaman & Nicobar\")"
   ]
  }
 ],
 "metadata": {
  "kernelspec": {
   "display_name": ".venv",
   "language": "python",
   "name": "python3"
  },
  "language_info": {
   "codemirror_mode": {
    "name": "ipython",
    "version": 3
   },
   "file_extension": ".py",
   "mimetype": "text/x-python",
   "name": "python",
   "nbconvert_exporter": "python",
   "pygments_lexer": "ipython3",
   "version": "3.12.2"
  }
 },
 "nbformat": 4,
 "nbformat_minor": 2
}
